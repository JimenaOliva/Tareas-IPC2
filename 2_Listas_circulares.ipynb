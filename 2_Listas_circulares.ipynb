{
  "nbformat": 4,
  "nbformat_minor": 0,
  "metadata": {
    "colab": {
      "name": "2. Listas circulares.ipynb",
      "provenance": [],
      "collapsed_sections": [],
      "authorship_tag": "ABX9TyOJcBITAxjNA3iABzvYOGRM",
      "include_colab_link": true
    },
    "kernelspec": {
      "name": "python3",
      "display_name": "Python 3"
    },
    "language_info": {
      "name": "python"
    }
  },
  "cells": [
    {
      "cell_type": "markdown",
      "metadata": {
        "id": "view-in-github",
        "colab_type": "text"
      },
      "source": [
        "<a href=\"https://colab.research.google.com/github/JimenaOliva/Tareas-IPC2/blob/main/2_Listas_circulares.ipynb\" target=\"_parent\"><img src=\"https://colab.research.google.com/assets/colab-badge.svg\" alt=\"Open In Colab\"/></a>"
      ]
    },
    {
      "cell_type": "markdown",
      "metadata": {
        "id": "7f6ev2GJzHgw"
      },
      "source": [
        "## **Listas Circulares**\n",
        "**Definición de la clase Estudiante**"
      ]
    },
    {
      "cell_type": "code",
      "metadata": {
        "id": "-JywH4M8y-nf"
      },
      "source": [
        "class estudiante:\n",
        "  def __init__(self, carne, nombre, edad, direccion, telefono, email, carrera, puesto):\n",
        "     self.carne = carne\n",
        "     self.nombre = nombre\n",
        "     self.edad = edad\n",
        "     self.direccion = direccion\n",
        "     self.telefono = telefono\n",
        "     self.email = email\n",
        "     self.carrera = carrera\n",
        "     self.puesto = puesto"
      ],
      "execution_count": 1,
      "outputs": []
    },
    {
      "cell_type": "markdown",
      "metadata": {
        "id": "uclo6w5zzO-D"
      },
      "source": [
        "**Definición de la clase Nodo**"
      ]
    },
    {
      "cell_type": "code",
      "metadata": {
        "id": "i0cC2eUWzOW7"
      },
      "source": [
        "class nodo:\n",
        "  def __init__(self, estudiante=None, siguiente=None):\n",
        "    self.estudiante = estudiante\n",
        "    self.siguiente = siguiente"
      ],
      "execution_count": 2,
      "outputs": []
    },
    {
      "cell_type": "markdown",
      "metadata": {
        "id": "gBDhdSlM1X4h"
      },
      "source": [
        "**Definición de la clase Lista Circular**"
      ]
    },
    {
      "cell_type": "code",
      "metadata": {
        "id": "Ue8_Eetj1azX"
      },
      "source": [
        "class lista_circular:\n",
        "  def __init__(self):\n",
        "    self.primero = None\n",
        "\n",
        "  def insertar(self, estudiante):\n",
        "    if self.primero is None:\n",
        "      self.primero = nodo(estudiante=estudiante)\n",
        "      self.primero.siguiente = self.primero\n",
        "    else:\n",
        "      actual = nodo(estudiante=estudiante, siguiente=self.primero.siguiente)\n",
        "      self.primero.siguiente = actual\n",
        "  \n",
        "  def recorrer(self):\n",
        "    if self.primero is None:\n",
        "      return\n",
        "    actual = self.primero\n",
        "    print(\"carne:\", actual.estudiante.carne, \"nombre:\", actual.estudiante.nombre, \"email:\", actual.estudiante.email, \"->\")\n",
        "    while actual.siguiente != self.primero:\n",
        "      actual = actual.siguiente\n",
        "      print(\"carne:\", actual.estudiante.carne, \"nombre:\", actual.estudiante.nombre, \"email:\", actual.estudiante.email, \"->\")\n",
        "  \n",
        "  def eliminar(self,carne):\n",
        "    actual = self.primero\n",
        "    anterior = None\n",
        "    no_encontrado = False\n",
        "\n",
        "    while actual and actual.estudiante.carne != carne:\n",
        "      anterior = actual\n",
        "      actual = actual.siguiente\n",
        "      if actual == self.primero:\n",
        "        no_encontrado = True\n",
        "        break\n",
        "\n",
        "    if not no_encontrado:  \n",
        "      if anterior is not None:\n",
        "        anterior.siguiente = actual.siguiente\n",
        "      else:\n",
        "        while actual.siguiente != self.primero:\n",
        "          actual = actual.siguiente\n",
        "        actual.siguiente = self.primero.siguiente\n",
        "        self.primero = self.primero.siguiente\n",
        "        \n",
        "  def buscar(self, carne):\n",
        "    actual = self.primero\n",
        "\n",
        "    while actual != None:\n",
        "      if actual.estudiante.carne == carne:\n",
        "        print(\"carne:\", actual.estudiante.carne, \"nombre:\", actual.estudiante.nombre, \"email:\", actual.estudiante.email)\n",
        "        return True\n",
        "      elif actual.siguiente == self.primero:\n",
        "        return False\n",
        "      else:\n",
        "        actual = actual.siguiente\n",
        "    return False\n"
      ],
      "execution_count": 3,
      "outputs": []
    },
    {
      "cell_type": "markdown",
      "metadata": {
        "id": "pPK9s5ZG955H"
      },
      "source": [
        "**Creación de objetos Estudiante**"
      ]
    },
    {
      "cell_type": "code",
      "metadata": {
        "id": "YJLQhong986f"
      },
      "source": [
        "e1 = estudiante(201915059, \"Gerson Ortiz\", 20, \"9 calle 10-02 zona 1\", 24400101, \"gerson.ortiz@gmail.com\", \"Ingeniería en Sistemas\", \"Programador Jr\")\n",
        "e2 = estudiante(201915060, \"Karen Hurtarte\", 21, \"7 calle 10-02 zona 1\", 24400102, \"karen.hurtarte@gmail.com\", \"Ingeniería en Sistemas\", \"Programador Jr\")\n",
        "e3 = estudiante(201915061, \"Luis Mendez\", 22, \"8 calle 10-02 zona 1\", 24400103, \"luis.mendez@gmail.com\", \"Ingeniería en Sistemas\", \"Programador Jr\")"
      ],
      "execution_count": 4,
      "outputs": []
    },
    {
      "cell_type": "markdown",
      "metadata": {
        "id": "QttOzaHZ-AzE"
      },
      "source": [
        "**Inserción**"
      ]
    },
    {
      "cell_type": "code",
      "metadata": {
        "id": "TPcOP7t3-DDE"
      },
      "source": [
        "lista_c = lista_circular()\n",
        "lista_c.insertar(e1)\n",
        "lista_c.insertar(e2)\n",
        "lista_c.insertar(e3)"
      ],
      "execution_count": 5,
      "outputs": []
    },
    {
      "cell_type": "markdown",
      "metadata": {
        "id": "QeMAejVG-OKw"
      },
      "source": [
        "**Recorrer la lista**"
      ]
    },
    {
      "cell_type": "code",
      "metadata": {
        "colab": {
          "base_uri": "https://localhost:8080/"
        },
        "id": "zjlhxU1y-RE0",
        "outputId": "16114689-f99c-4e00-8685-31f1d607662e"
      },
      "source": [
        "lista_c.recorrer()"
      ],
      "execution_count": 6,
      "outputs": [
        {
          "output_type": "stream",
          "text": [
            "carne: 201915059 nombre: Gerson Ortiz email: gerson.ortiz@gmail.com ->\n",
            "carne: 201915061 nombre: Luis Mendez email: luis.mendez@gmail.com ->\n",
            "carne: 201915060 nombre: Karen Hurtarte email: karen.hurtarte@gmail.com ->\n"
          ],
          "name": "stdout"
        }
      ]
    },
    {
      "cell_type": "markdown",
      "metadata": {
        "id": "FdK8DlJQrreA"
      },
      "source": [
        "**Eliminar un nodo de la lista**"
      ]
    },
    {
      "cell_type": "code",
      "metadata": {
        "colab": {
          "base_uri": "https://localhost:8080/"
        },
        "id": "jCIokF6Pru6y",
        "outputId": "92f11b9a-e0b1-40a2-c967-33a431892ba5"
      },
      "source": [
        "lista_c.eliminar(201915060)\n",
        "lista_c.eliminar(201915059)\n",
        "lista_c.recorrer()"
      ],
      "execution_count": 7,
      "outputs": [
        {
          "output_type": "stream",
          "text": [
            "carne: 201915061 nombre: Luis Mendez email: luis.mendez@gmail.com ->\n"
          ],
          "name": "stdout"
        }
      ]
    },
    {
      "cell_type": "markdown",
      "metadata": {
        "id": "lX2kn5mj6kTr"
      },
      "source": [
        "**Búsqueda de un nodo de la lista**"
      ]
    },
    {
      "cell_type": "code",
      "metadata": {
        "colab": {
          "base_uri": "https://localhost:8080/"
        },
        "id": "nDxJ4NOd6kw7",
        "outputId": "a6998def-791e-46b6-d4c5-784a65f8c9ef"
      },
      "source": [
        "lista_c.buscar(201915061)\n",
        "lista_c.buscar(201915060) #No existe"
      ],
      "execution_count": 8,
      "outputs": [
        {
          "output_type": "stream",
          "text": [
            "carne: 201915061 nombre: Luis Mendez email: luis.mendez@gmail.com\n"
          ],
          "name": "stdout"
        },
        {
          "output_type": "execute_result",
          "data": {
            "text/plain": [
              "False"
            ]
          },
          "metadata": {},
          "execution_count": 8
        }
      ]
    }
  ]
}